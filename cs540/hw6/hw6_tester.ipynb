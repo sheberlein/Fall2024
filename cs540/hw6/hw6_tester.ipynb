{
 "cells": [
  {
   "cell_type": "code",
   "execution_count": 1,
   "id": "ce0c2b63-2f33-4ccc-b79c-4d77c504e1b2",
   "metadata": {},
   "outputs": [],
   "source": [
    "import torch\n",
    "import torch.nn as nn\n",
    "import torch.nn.functional as F\n",
    "import torch.optim as optim\n",
    "from torchvision import datasets, transforms"
   ]
  },
  {
   "cell_type": "code",
   "execution_count": 2,
   "id": "05434707-f81e-43bd-a76f-b5ae222a0692",
   "metadata": {},
   "outputs": [],
   "source": [
    "def get_data_loader(training = True):\n",
    "    custom_transform = transforms.Compose([transforms.ToTensor(), transforms.Normalize((0.1307,), (0.3081,))])\n",
    "    train_set = datasets.FashionMNIST('./data', train = True, download=True, transform=custom_transform)\n",
    "    test_set = datasets.FashionMNIST('./data', train = False, transform=custom_transform)\n",
    "    \n",
    "    if training:\n",
    "        loader = torch.utils.data.DataLoader(train_set, batch_size = 64)\n",
    "    else:\n",
    "        loader = torch.utils.data.DataLoader(test_set, batch_size = 64)\n",
    "    return loader"
   ]
  },
  {
   "cell_type": "code",
   "execution_count": 3,
   "id": "6ab470c0-a152-4222-a15a-add1234332a6",
   "metadata": {},
   "outputs": [
    {
     "name": "stdout",
     "output_type": "stream",
     "text": [
      "<class 'torch.utils.data.dataloader.DataLoader'>\n",
      "Dataset FashionMNIST\n",
      "    Number of datapoints: 60000\n",
      "    Root location: ./data\n",
      "    Split: Train\n",
      "    StandardTransform\n",
      "Transform: Compose(\n",
      "               ToTensor()\n",
      "               Normalize(mean=(0.1307,), std=(0.3081,))\n",
      "           )\n"
     ]
    }
   ],
   "source": [
    "train_loader = get_data_loader()\n",
    "print(type(train_loader))\n",
    "print(train_loader.dataset)\n",
    "test_loader = get_data_loader(False)"
   ]
  },
  {
   "cell_type": "code",
   "execution_count": 4,
   "id": "44e4133c-31ed-4d90-a9e3-652ef18915e3",
   "metadata": {},
   "outputs": [],
   "source": [
    "def build_model():\n",
    "    model = nn.Sequential(nn.Flatten(), nn.Linear(28*28, 128), nn.ReLU(), nn.Linear(128, 64), nn.ReLU(), nn.Linear(64, 10))\n",
    "    return model"
   ]
  },
  {
   "cell_type": "code",
   "execution_count": 5,
   "id": "0d54555e-22bf-4985-853e-3651057fb0d4",
   "metadata": {},
   "outputs": [
    {
     "name": "stdout",
     "output_type": "stream",
     "text": [
      "Sequential(\n",
      "  (0): Flatten(start_dim=1, end_dim=-1)\n",
      "  (1): Linear(in_features=784, out_features=128, bias=True)\n",
      "  (2): ReLU()\n",
      "  (3): Linear(in_features=128, out_features=64, bias=True)\n",
      "  (4): ReLU()\n",
      "  (5): Linear(in_features=64, out_features=10, bias=True)\n",
      ")\n"
     ]
    }
   ],
   "source": [
    "model = build_model()\n",
    "print(model)"
   ]
  },
  {
   "cell_type": "code",
   "execution_count": 6,
   "id": "402acd42-246d-4c3d-9258-2f0c27b4722e",
   "metadata": {},
   "outputs": [],
   "source": [
    "def train_model(model, train_loader, criterion, T):\n",
    "    \"\"\"\n",
    "    TODO: implement this function.\n",
    "\n",
    "    INPUT: \n",
    "        model - the model produced by the previous function\n",
    "        train_loader  - the train DataLoader produced by the first function\n",
    "        criterion   - cross-entropy \n",
    "        T - number of epochs for training\n",
    "\n",
    "    RETURNS:\n",
    "        None\n",
    "    \"\"\"\n",
    "\n",
    "    # set the model to train mode before iterating\n",
    "    model.train()\n",
    "    counter = 0\n",
    "    # outer for loop: iterates through epochs\n",
    "    for epoch in range(T):\n",
    "        running_loss = 0.0\n",
    "        correct_predictions = 0\n",
    "        total_predictions = 0\n",
    "        opt = optim.SGD(model.parameters(), lr=0.001, momentum=0.9)\n",
    "        \n",
    "        # inner for loop: iterates through (images, labels) pairs from the train_loader\n",
    "        for (images, labels) in train_loader:\n",
    "            opt.zero_grad()\n",
    "\n",
    "            # forward + backward + optimize\n",
    "            outputs = model(images)\n",
    "            loss = criterion(outputs, labels)\n",
    "            loss.backward()\n",
    "            opt.step()\n",
    "\n",
    "            running_loss += loss.item()\n",
    "            total_predictions += labels.size(0)\n",
    "            _, predicted = torch.max(outputs.data, 1)  # Get the index of the max log-probability (ChatGPT helped me with this part)\n",
    "            correct_predictions += (predicted == labels).sum().item()  # Update correct count\n",
    "            accuracy_percent = round((correct_predictions / total_predictions) * 100, 2)\n",
    "        # printing everything\n",
    "        print(f'Train Epoch: {counter}   Accuracy: {correct_predictions}/{total_predictions}({accuracy_percent}%)   Loss: {round(running_loss / len(train_loader), 3)}')\n",
    "        counter += 1\n"
   ]
  },
  {
   "cell_type": "code",
   "execution_count": 7,
   "id": "83d9089f-1d73-49c5-b612-20961d1dc392",
   "metadata": {},
   "outputs": [
    {
     "name": "stdout",
     "output_type": "stream",
     "text": [
      "Train Epoch: 0   Accuracy: 42858/60000(71.43%)   Loss: 0.883\n",
      "Train Epoch: 1   Accuracy: 49274/60000(82.12%)   Loss: 0.509\n",
      "Train Epoch: 2   Accuracy: 50345/60000(83.91%)   Loss: 0.455\n",
      "Train Epoch: 3   Accuracy: 51006/60000(85.01%)   Loss: 0.423\n",
      "Train Epoch: 4   Accuracy: 51516/60000(85.86%)   Loss: 0.401\n"
     ]
    }
   ],
   "source": [
    "criterion = nn.CrossEntropyLoss()\n",
    "train_model(model, train_loader, criterion, 5)"
   ]
  },
  {
   "cell_type": "code",
   "execution_count": 8,
   "id": "c74615ff-8a2a-46be-b01c-e39f336e67ed",
   "metadata": {},
   "outputs": [],
   "source": [
    "def evaluate_model(model, test_loader, criterion, show_loss = True):\n",
    "    correct = 0\n",
    "    total = 0\n",
    "    running_loss = 0.0\n",
    "    model.eval()\n",
    "    with torch.no_grad():\n",
    "        for data in test_loader:\n",
    "            images, labels = data\n",
    "            \n",
    "            # run images through the model to calculate the outputs\n",
    "            outputs = model(images)\n",
    "            \n",
    "            # we want the class with the highest energy\n",
    "            _, predicted = torch.max(outputs.data, 1)\n",
    "            total += labels.size(0)\n",
    "            correct += (predicted == labels).sum().item()\n",
    "\n",
    "            # calculate the loss and update the total\n",
    "            loss = criterion(outputs, labels)\n",
    "            running_loss += loss.item()\n",
    "        accuracy = (correct / total) * 100\n",
    "        if (show_loss == True):\n",
    "            print(f'Average Loss: {round(running_loss / len(test_loader), 4)}')\n",
    "        print(f'Accuracy: {round(accuracy, 2)}%')"
   ]
  },
  {
   "cell_type": "code",
   "execution_count": 9,
   "id": "456721dc-e855-4be2-98f6-496ac47a3ec1",
   "metadata": {},
   "outputs": [
    {
     "name": "stdout",
     "output_type": "stream",
     "text": [
      "Average Loss: 0.4281\n",
      "Accuracy: 84.49%\n"
     ]
    }
   ],
   "source": [
    "evaluate_model(model, test_loader, criterion, show_loss = True)"
   ]
  },
  {
   "cell_type": "code",
   "execution_count": 10,
   "id": "c970d746-0401-4194-a765-05da6e6a21fe",
   "metadata": {},
   "outputs": [],
   "source": [
    "def predict_label(model, test_images, index):\n",
    "    # find logits\n",
    "    logits = model(test_images[index])\n",
    "    prob = F.softmax(logits, dim=1)\n",
    "    \n",
    "    # assumed class names\n",
    "    class_names = ['T-shirt/top','Trouser','Pullover','Dress','Coat','Sandal','Shirt','Sneaker','Bag','Ankle Boot']\n",
    "\n",
    "    index = 0\n",
    "    sorted_with_index = []\n",
    "    for p in prob[0]:\n",
    "        sorted_with_index.append([p.item(), index])\n",
    "        index = index + 1\n",
    "    sorted_with_index = sorted(sorted_with_index, reverse = True)\n",
    "    top1 = sorted_with_index[0]\n",
    "    top1_label = class_names[top1[1]]\n",
    "    top2 = sorted_with_index[1]\n",
    "    top2_label = class_names[top2[1]]\n",
    "    top3 = sorted_with_index[2]\n",
    "    top3_label = class_names[top3[1]]\n",
    "    print(f'{top1_label}: {round(top1[0] * 100, 2)}%')\n",
    "    print(f'{top2_label}: {round(top2[0] * 100, 2)}%')\n",
    "    print(f'{top3_label}: {round(top3[0] * 100, 2)}%')"
   ]
  },
  {
   "cell_type": "code",
   "execution_count": 11,
   "id": "8ee668d3-505d-45a0-98e4-e098fffb52fc",
   "metadata": {},
   "outputs": [
    {
     "name": "stdout",
     "output_type": "stream",
     "text": [
      "Pullover: 94.19%\n",
      "Shirt: 4.78%\n",
      "Coat: 0.98%\n"
     ]
    }
   ],
   "source": [
    "test_images = next(iter(test_loader))[0]\n",
    "predict_label(model, test_images, 1)"
   ]
  },
  {
   "cell_type": "code",
   "execution_count": null,
   "id": "ebf77e8a-c97a-4f72-ad27-f5cfdbceb913",
   "metadata": {},
   "outputs": [],
   "source": []
  }
 ],
 "metadata": {
  "kernelspec": {
   "display_name": "Python (myenv)",
   "language": "python",
   "name": "myenv"
  },
  "language_info": {
   "codemirror_mode": {
    "name": "ipython",
    "version": 3
   },
   "file_extension": ".py",
   "mimetype": "text/x-python",
   "name": "python",
   "nbconvert_exporter": "python",
   "pygments_lexer": "ipython3",
   "version": "3.11.4"
  }
 },
 "nbformat": 4,
 "nbformat_minor": 5
}
