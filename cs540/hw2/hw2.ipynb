{
 "cells": [
  {
   "cell_type": "code",
   "execution_count": 2,
   "id": "ea59859b",
   "metadata": {},
   "outputs": [],
   "source": [
    "import sys\n",
    "import math\n",
    "import string"
   ]
  },
  {
   "cell_type": "code",
   "execution_count": 3,
   "id": "5e9153a5",
   "metadata": {
    "lines_to_next_cell": 1
   },
   "outputs": [],
   "source": [
    "def get_parameter_vectors():\n",
    "    '''\n",
    "    This function parses e.txt and s.txt to get the  26-dimensional multinomial\n",
    "    parameter vector (characters probabilities of English and Spanish) as\n",
    "    descibed in section 1.2 of the writeup\n",
    "\n",
    "    Returns: tuple of vectors e and s\n",
    "    '''\n",
    "    #Implementing vectors e,s as lists (arrays) of length 26\n",
    "    #with p[0] being the probability of 'A' and so on\n",
    "    e=[0]*26\n",
    "    s=[0]*26\n",
    "\n",
    "    with open('e.txt',encoding='utf-8') as f:\n",
    "        for line in f:\n",
    "            #strip: removes the newline character\n",
    "            #split: split the string on space character\n",
    "            char,prob=line.strip().split(\" \")\n",
    "            #ord('E') gives the ASCII (integer) value of character 'E'\n",
    "            #we then subtract it from 'A' to give array index\n",
    "            #This way 'A' gets index 0 and 'Z' gets index 25.\n",
    "            e[ord(char)-ord('A')]=float(prob)\n",
    "    f.close()\n",
    "\n",
    "    with open('s.txt',encoding='utf-8') as f:\n",
    "        for line in f:\n",
    "            char,prob=line.strip().split(\" \")\n",
    "            s[ord(char)-ord('A')]=float(prob)\n",
    "    f.close()\n",
    "\n",
    "    return (e,s)"
   ]
  },
  {
   "cell_type": "code",
   "execution_count": 4,
   "id": "61d6b349",
   "metadata": {},
   "outputs": [],
   "source": [
    "def shred(filename):\n",
    "    #Using a dictionary here. You may change this to any data structure of\n",
    "    #your choice such as lists (X=[]) etc. for the assignment\n",
    "    X = dict()\n",
    "    \n",
    "    # get a list of all the uppercase letters in the keys of X\n",
    "    for letter in string.ascii_uppercase:\n",
    "        X[letter] = 0\n",
    "        \n",
    "    # open the file and create the rest of the dictionary\n",
    "    with open (filename,encoding='utf-8') as f:\n",
    "        # TODO: add your code here\n",
    "        for line in f:\n",
    "            for character in line:\n",
    "                if character.upper() in string.ascii_uppercase:\n",
    "                    X[character.upper()] += 1\n",
    "\n",
    "    return X"
   ]
  },
  {
   "cell_type": "code",
   "execution_count": 8,
   "id": "897e938e",
   "metadata": {},
   "outputs": [
    {
     "ename": "ValueError",
     "evalue": "could not convert string to float: '/Users/sidneyheberlein/Library/Jupyter/runtime/kernel-ee68a919-9173-40c8-a2fb-a6e5cb16b227.json'",
     "output_type": "error",
     "traceback": [
      "\u001b[0;31m---------------------------------------------------------------------------\u001b[0m",
      "\u001b[0;31mValueError\u001b[0m                                Traceback (most recent call last)",
      "Cell \u001b[0;32mIn[8], line 6\u001b[0m\n\u001b[1;32m      4\u001b[0m args \u001b[38;5;241m=\u001b[39m sys\u001b[38;5;241m.\u001b[39margv\n\u001b[1;32m      5\u001b[0m filename \u001b[38;5;241m=\u001b[39m args[\u001b[38;5;241m1\u001b[39m]\n\u001b[0;32m----> 6\u001b[0m englishPrior \u001b[38;5;241m=\u001b[39m \u001b[38;5;28mfloat\u001b[39m(args[\u001b[38;5;241m2\u001b[39m])\n\u001b[1;32m      7\u001b[0m spanishPrior \u001b[38;5;241m=\u001b[39m \u001b[38;5;28mfloat\u001b[39m(args[\u001b[38;5;241m3\u001b[39m])\n\u001b[1;32m     10\u001b[0m \u001b[38;5;66;03m# Q1\u001b[39;00m\n",
      "\u001b[0;31mValueError\u001b[0m: could not convert string to float: '/Users/sidneyheberlein/Library/Jupyter/runtime/kernel-ee68a919-9173-40c8-a2fb-a6e5cb16b227.json'"
     ]
    }
   ],
   "source": [
    "# Outputs\n",
    "\n",
    "# input arguments\n",
    "args = sys.argv\n",
    "filename = args[1]\n",
    "englishPrior = float(args[2])\n",
    "spanishPrior = float(args[3])\n",
    "\n",
    "\n",
    "# Q1\n",
    "print(\"Q1\")\n",
    "dicty1 = shred(filename)\n",
    "for key in sorted(dicty1.keys()):\n",
    "    print(key, dicty1[key])\n",
    "    \n",
    "# Q2\n",
    "print(\"Q2\")\n",
    "e, s = get_parameter_vectors()\n",
    "x1LogE1 = dicty1[\"A\"] * math.log(e[0])\n",
    "x1LogS1 = dicty1[\"A\"] * math.log(s[0])\n",
    "print(float(\"{:.4f}\".format(x1LogE1)))\n",
    "print(float(\"{:.4f}\".format(x1LogS1)))\n",
    "\n",
    "# Q3\n",
    "print(\"Q3\")\n",
    "logEnglishPrior = math.log(englishPrior)\n",
    "logSpanishPrior = math.log(spanishPrior)\n",
    "\n",
    "# getting the english sum * log\n",
    "sumXiEnglish = 0\n",
    "counter = 0\n",
    "for letter in dicty1:\n",
    "    sumXiEnglish += dicty1[letter] * math.log(e[counter])\n",
    "    counter += 1\n",
    "\n",
    "# getting the spanish sum * log\n",
    "sumXiSpanish = 0\n",
    "counter = 0\n",
    "for letter in dicty1:\n",
    "    sumXiSpanish += dicty1[letter] * math.log(s[counter])\n",
    "    counter += 1\n",
    "\n",
    "# getting the final question values\n",
    "fEnglish = logEnglishPrior + sumXiEnglish\n",
    "fSpanish = logSpanishPrior + sumXiSpanish\n",
    "print(float(\"{:.4f}\".format(fEnglish)))\n",
    "print(float(\"{:.4f}\".format(fSpanish)))\n",
    "\n",
    "# Q4\n",
    "print(\"Q4\")\n",
    "pYEnglishX = 0\n",
    "if fSpanish - fEnglish >= 100:\n",
    "    pYEnglishX = 0\n",
    "elif fSpanish - fEnglish <= -100:\n",
    "    pYEnglishX = 1\n",
    "else:\n",
    "    pYEnglishX = 1/(1 + math.exp(fSpanish - fEnglish))\n",
    "print(float(\"{:.4f}\".format(pYEnglishX)))"
   ]
  },
  {
   "cell_type": "code",
   "execution_count": 29,
   "id": "640ea378",
   "metadata": {},
   "outputs": [],
   "source": []
  },
  {
   "cell_type": "markdown",
   "id": "c9b0c886",
   "metadata": {},
   "source": [
    "TODO: add your code here for the assignment\n",
    "You are free to implement it as you wish!\n",
    "Happy Coding!"
   ]
  }
 ],
 "metadata": {
  "jupytext": {
   "cell_metadata_filter": "-all",
   "notebook_metadata_filter": "-all"
  },
  "kernelspec": {
   "display_name": "Python 3 (ipykernel)",
   "language": "python",
   "name": "python3"
  },
  "language_info": {
   "codemirror_mode": {
    "name": "ipython",
    "version": 3
   },
   "file_extension": ".py",
   "mimetype": "text/x-python",
   "name": "python",
   "nbconvert_exporter": "python",
   "pygments_lexer": "ipython3",
   "version": "3.11.4"
  }
 },
 "nbformat": 4,
 "nbformat_minor": 5
}
